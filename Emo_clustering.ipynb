{
 "cells": [
  {
   "cell_type": "code",
   "execution_count": 292,
   "metadata": {},
   "outputs": [],
   "source": [
    "import numpy as np\n",
    "import pandas as pd\n",
    "import matplotlib.pyplot as plt\n",
    "    \n",
    "from sklearn.metrics import calinski_harabasz_score, silhouette_score, davies_bouldin_score, make_scorer\n",
    "from sklearn.cluster import DBSCAN, AgglomerativeClustering, Birch, OPTICS, MeanShift\n",
    "from sklearn.preprocessing import StandardScaler\n",
    "from sklearn.model_selection import GridSearchCV"
   ]
  },
  {
   "cell_type": "code",
   "execution_count": 6,
   "metadata": {},
   "outputs": [],
   "source": [
    "df = pd.read_csv(\"comments.csv\")"
   ]
  },
  {
   "cell_type": "code",
   "execution_count": 7,
   "metadata": {},
   "outputs": [
    {
     "data": {
      "text/html": [
       "<div>\n",
       "<style scoped>\n",
       "    .dataframe tbody tr th:only-of-type {\n",
       "        vertical-align: middle;\n",
       "    }\n",
       "\n",
       "    .dataframe tbody tr th {\n",
       "        vertical-align: top;\n",
       "    }\n",
       "\n",
       "    .dataframe thead th {\n",
       "        text-align: right;\n",
       "    }\n",
       "</style>\n",
       "<table border=\"1\" class=\"dataframe\">\n",
       "  <thead>\n",
       "    <tr style=\"text-align: right;\">\n",
       "      <th></th>\n",
       "      <th>id</th>\n",
       "      <th>emo</th>\n",
       "    </tr>\n",
       "  </thead>\n",
       "  <tbody>\n",
       "    <tr>\n",
       "      <th>0</th>\n",
       "      <td>468483253</td>\n",
       "      <td>[0.3  0.05 0.04 0.94 0.04 0.07 0.2  0.05]</td>\n",
       "    </tr>\n",
       "    <tr>\n",
       "      <th>1</th>\n",
       "      <td>230927305</td>\n",
       "      <td>[0.14 0.09 0.03 0.05 0.03 0.04 0.87 0.18]</td>\n",
       "    </tr>\n",
       "    <tr>\n",
       "      <th>2</th>\n",
       "      <td>35737691</td>\n",
       "      <td>[0.38 0.2  0.11 0.32 0.04 0.09 0.35 0.09]</td>\n",
       "    </tr>\n",
       "    <tr>\n",
       "      <th>3</th>\n",
       "      <td>93940744</td>\n",
       "      <td>[0.92 0.04 0.04 0.06 0.02 0.02 0.08 0.1 ]</td>\n",
       "    </tr>\n",
       "    <tr>\n",
       "      <th>4</th>\n",
       "      <td>488047952</td>\n",
       "      <td>[0.38 0.2  0.11 0.32 0.04 0.09 0.35 0.09]</td>\n",
       "    </tr>\n",
       "  </tbody>\n",
       "</table>\n",
       "</div>"
      ],
      "text/plain": [
       "          id                                        emo\n",
       "0  468483253  [0.3  0.05 0.04 0.94 0.04 0.07 0.2  0.05]\n",
       "1  230927305  [0.14 0.09 0.03 0.05 0.03 0.04 0.87 0.18]\n",
       "2   35737691  [0.38 0.2  0.11 0.32 0.04 0.09 0.35 0.09]\n",
       "3   93940744  [0.92 0.04 0.04 0.06 0.02 0.02 0.08 0.1 ]\n",
       "4  488047952  [0.38 0.2  0.11 0.32 0.04 0.09 0.35 0.09]"
      ]
     },
     "execution_count": 7,
     "metadata": {},
     "output_type": "execute_result"
    }
   ],
   "source": [
    "# Show head of dataset \n",
    "df.head()"
   ]
  },
  {
   "cell_type": "code",
   "execution_count": 8,
   "metadata": {},
   "outputs": [
    {
     "data": {
      "text/plain": [
       "2761977"
      ]
     },
     "execution_count": 8,
     "metadata": {},
     "output_type": "execute_result"
    }
   ],
   "source": [
    "# Get a size of dataset\n",
    "len(df)"
   ]
  },
  {
   "cell_type": "code",
   "execution_count": 9,
   "metadata": {},
   "outputs": [
    {
     "data": {
      "text/plain": [
       "id      int64\n",
       "emo    object\n",
       "dtype: object"
      ]
     },
     "execution_count": 9,
     "metadata": {},
     "output_type": "execute_result"
    }
   ],
   "source": [
    "# Discover types of data\n",
    "df.dtypes"
   ]
  },
  {
   "cell_type": "code",
   "execution_count": 10,
   "metadata": {},
   "outputs": [
    {
     "data": {
      "text/plain": [
       "str"
      ]
     },
     "execution_count": 10,
     "metadata": {},
     "output_type": "execute_result"
    }
   ],
   "source": [
    "# Discover type of emo column for further transformations\n",
    "type(df['emo'][0])"
   ]
  },
  {
   "cell_type": "code",
   "execution_count": 11,
   "metadata": {},
   "outputs": [
    {
     "data": {
      "text/plain": [
       "'[0.3  0.05 0.04 0.94 0.04 0.07 0.2  0.05]'"
      ]
     },
     "execution_count": 11,
     "metadata": {},
     "output_type": "execute_result"
    }
   ],
   "source": [
    "df['emo'][0]"
   ]
  },
  {
   "cell_type": "code",
   "execution_count": 12,
   "metadata": {
    "scrolled": true
   },
   "outputs": [
    {
     "data": {
      "text/plain": [
       "id     0\n",
       "emo    0\n",
       "dtype: int64"
      ]
     },
     "execution_count": 12,
     "metadata": {},
     "output_type": "execute_result"
    }
   ],
   "source": [
    "# Discover if null values in dataset -> no null values\n",
    "df.isnull().sum()"
   ]
  },
  {
   "cell_type": "code",
   "execution_count": 13,
   "metadata": {},
   "outputs": [
    {
     "data": {
      "text/html": [
       "<div>\n",
       "<style scoped>\n",
       "    .dataframe tbody tr th:only-of-type {\n",
       "        vertical-align: middle;\n",
       "    }\n",
       "\n",
       "    .dataframe tbody tr th {\n",
       "        vertical-align: top;\n",
       "    }\n",
       "\n",
       "    .dataframe thead th {\n",
       "        text-align: right;\n",
       "    }\n",
       "</style>\n",
       "<table border=\"1\" class=\"dataframe\">\n",
       "  <thead>\n",
       "    <tr style=\"text-align: right;\">\n",
       "      <th></th>\n",
       "      <th>id</th>\n",
       "    </tr>\n",
       "  </thead>\n",
       "  <tbody>\n",
       "    <tr>\n",
       "      <th>count</th>\n",
       "      <td>2.761977e+06</td>\n",
       "    </tr>\n",
       "    <tr>\n",
       "      <th>mean</th>\n",
       "      <td>2.156865e+08</td>\n",
       "    </tr>\n",
       "    <tr>\n",
       "      <th>std</th>\n",
       "      <td>1.662448e+08</td>\n",
       "    </tr>\n",
       "    <tr>\n",
       "      <th>min</th>\n",
       "      <td>-1.930596e+08</td>\n",
       "    </tr>\n",
       "    <tr>\n",
       "      <th>25%</th>\n",
       "      <td>5.990703e+07</td>\n",
       "    </tr>\n",
       "    <tr>\n",
       "      <th>50%</th>\n",
       "      <td>1.842757e+08</td>\n",
       "    </tr>\n",
       "    <tr>\n",
       "      <th>75%</th>\n",
       "      <td>3.538382e+08</td>\n",
       "    </tr>\n",
       "    <tr>\n",
       "      <th>max</th>\n",
       "      <td>6.119504e+08</td>\n",
       "    </tr>\n",
       "  </tbody>\n",
       "</table>\n",
       "</div>"
      ],
      "text/plain": [
       "                 id\n",
       "count  2.761977e+06\n",
       "mean   2.156865e+08\n",
       "std    1.662448e+08\n",
       "min   -1.930596e+08\n",
       "25%    5.990703e+07\n",
       "50%    1.842757e+08\n",
       "75%    3.538382e+08\n",
       "max    6.119504e+08"
      ]
     },
     "execution_count": 13,
     "metadata": {},
     "output_type": "execute_result"
    }
   ],
   "source": [
    "# Negative values for id column is quite strange because of a definition of \"id\". \n",
    "# Maybe these id are large numbers, therefore, it was written into memory as negative\n",
    "df.describe()"
   ]
  },
  {
   "cell_type": "code",
   "execution_count": 14,
   "metadata": {},
   "outputs": [
    {
     "data": {
      "text/plain": [
       "3109"
      ]
     },
     "execution_count": 14,
     "metadata": {},
     "output_type": "execute_result"
    }
   ],
   "source": [
    "# How many negative values for id\n",
    "sum(df.id < 0)"
   ]
  },
  {
   "cell_type": "code",
   "execution_count": 15,
   "metadata": {},
   "outputs": [
    {
     "data": {
      "text/plain": [
       "169066"
      ]
     },
     "execution_count": 15,
     "metadata": {},
     "output_type": "execute_result"
    }
   ],
   "source": [
    "# Calculate number of users\n",
    "len(df.groupby('id').nunique())"
   ]
  },
  {
   "cell_type": "code",
   "execution_count": 16,
   "metadata": {},
   "outputs": [
    {
     "data": {
      "text/html": [
       "<div>\n",
       "<style scoped>\n",
       "    .dataframe tbody tr th:only-of-type {\n",
       "        vertical-align: middle;\n",
       "    }\n",
       "\n",
       "    .dataframe tbody tr th {\n",
       "        vertical-align: top;\n",
       "    }\n",
       "\n",
       "    .dataframe thead th {\n",
       "        text-align: right;\n",
       "    }\n",
       "</style>\n",
       "<table border=\"1\" class=\"dataframe\">\n",
       "  <thead>\n",
       "    <tr style=\"text-align: right;\">\n",
       "      <th></th>\n",
       "      <th>id</th>\n",
       "      <th>emo</th>\n",
       "    </tr>\n",
       "  </thead>\n",
       "  <tbody>\n",
       "    <tr>\n",
       "      <th>4603</th>\n",
       "      <td>-94833853</td>\n",
       "      <td>[0.08 0.86 0.28 0.5  0.05 0.04 0.06 0.02]</td>\n",
       "    </tr>\n",
       "    <tr>\n",
       "      <th>4636</th>\n",
       "      <td>-131954297</td>\n",
       "      <td>[0.87 0.21 0.11 0.05 0.02 0.02 0.05 0.65]</td>\n",
       "    </tr>\n",
       "    <tr>\n",
       "      <th>5474</th>\n",
       "      <td>-88772190</td>\n",
       "      <td>[0.16 0.04 0.03 0.91 0.02 0.19 0.1  0.05]</td>\n",
       "    </tr>\n",
       "    <tr>\n",
       "      <th>6270</th>\n",
       "      <td>-88772190</td>\n",
       "      <td>[0.13 0.47 0.04 0.51 0.03 0.02 0.25 0.02]</td>\n",
       "    </tr>\n",
       "    <tr>\n",
       "      <th>6970</th>\n",
       "      <td>-80040324</td>\n",
       "      <td>[0.44 0.07 0.03 0.34 0.03 0.06 0.09 0.04]</td>\n",
       "    </tr>\n",
       "    <tr>\n",
       "      <th>...</th>\n",
       "      <td>...</td>\n",
       "      <td>...</td>\n",
       "    </tr>\n",
       "    <tr>\n",
       "      <th>2743840</th>\n",
       "      <td>-80040324</td>\n",
       "      <td>[0.26 0.09 0.04 0.16 0.02 0.12 0.16 0.03]</td>\n",
       "    </tr>\n",
       "    <tr>\n",
       "      <th>2753826</th>\n",
       "      <td>-80040324</td>\n",
       "      <td>[0.25 0.04 0.13 0.09 0.02 0.16 0.1  0.05]</td>\n",
       "    </tr>\n",
       "    <tr>\n",
       "      <th>2753919</th>\n",
       "      <td>-80040324</td>\n",
       "      <td>[0.16 0.14 0.05 0.2  0.02 0.78 0.35 0.03]</td>\n",
       "    </tr>\n",
       "    <tr>\n",
       "      <th>2759904</th>\n",
       "      <td>-80040324</td>\n",
       "      <td>[0.27 0.79 0.07 0.68 0.03 0.28 0.27 0.02]</td>\n",
       "    </tr>\n",
       "    <tr>\n",
       "      <th>2761159</th>\n",
       "      <td>-80040324</td>\n",
       "      <td>[0.15 0.04 0.08 0.2  0.02 0.04 0.75 0.12]</td>\n",
       "    </tr>\n",
       "  </tbody>\n",
       "</table>\n",
       "<p>3109 rows × 2 columns</p>\n",
       "</div>"
      ],
      "text/plain": [
       "                id                                        emo\n",
       "4603     -94833853  [0.08 0.86 0.28 0.5  0.05 0.04 0.06 0.02]\n",
       "4636    -131954297  [0.87 0.21 0.11 0.05 0.02 0.02 0.05 0.65]\n",
       "5474     -88772190  [0.16 0.04 0.03 0.91 0.02 0.19 0.1  0.05]\n",
       "6270     -88772190  [0.13 0.47 0.04 0.51 0.03 0.02 0.25 0.02]\n",
       "6970     -80040324  [0.44 0.07 0.03 0.34 0.03 0.06 0.09 0.04]\n",
       "...            ...                                        ...\n",
       "2743840  -80040324  [0.26 0.09 0.04 0.16 0.02 0.12 0.16 0.03]\n",
       "2753826  -80040324  [0.25 0.04 0.13 0.09 0.02 0.16 0.1  0.05]\n",
       "2753919  -80040324  [0.16 0.14 0.05 0.2  0.02 0.78 0.35 0.03]\n",
       "2759904  -80040324  [0.27 0.79 0.07 0.68 0.03 0.28 0.27 0.02]\n",
       "2761159  -80040324  [0.15 0.04 0.08 0.2  0.02 0.04 0.75 0.12]\n",
       "\n",
       "[3109 rows x 2 columns]"
      ]
     },
     "execution_count": 16,
     "metadata": {},
     "output_type": "execute_result"
    }
   ],
   "source": [
    "# Show data for negative values\n",
    "df.loc[df.id < 0]"
   ]
  },
  {
   "cell_type": "code",
   "execution_count": 17,
   "metadata": {},
   "outputs": [],
   "source": [
    "# Отрицательные - значения, которые не поместились в память и возможно какаим-то образом стали отрицательными"
   ]
  },
  {
   "cell_type": "code",
   "execution_count": 19,
   "metadata": {},
   "outputs": [
    {
     "data": {
      "text/plain": [
       "<matplotlib.axes._subplots.AxesSubplot at 0x104214ed0>"
      ]
     },
     "execution_count": 19,
     "metadata": {},
     "output_type": "execute_result"
    },
    {
     "data": {
      "image/png": "[encoded data removed]",
      "text/plain": [
       "<Figure size 1080x576 with 1 Axes>"
      ]
     },
     "metadata": {
      "needs_background": "light"
     },
     "output_type": "display_data"
    }
   ],
   "source": [
    "# Show a distribution of the number of user's comments\n",
    "plt.figure(figsize=(15,8))\n",
    "df.groupby('id')['emo'].nunique().plot()"
   ]
  },
  {
   "cell_type": "markdown",
   "metadata": {},
   "source": [
    "We see a peak and we consider it an outlier and remove it from our sample."
   ]
  },
  {
   "cell_type": "markdown",
   "metadata": {},
   "source": [
    "Also remove users with negative id, because of the little number of comments."
   ]
  },
  {
   "cell_type": "markdown",
   "metadata": {},
   "source": [
    "And remove all users with at most 10 comments."
   ]
  },
  {
   "cell_type": "code",
   "execution_count": 20,
   "metadata": {},
   "outputs": [
    {
     "data": {
      "text/plain": [
       "411185656"
      ]
     },
     "execution_count": 20,
     "metadata": {},
     "output_type": "execute_result"
    }
   ],
   "source": [
    "# Detect user id for the outlier\n",
    "grouped_series = df.groupby('id')['emo'].nunique()\n",
    "grouped_series.idxmax()"
   ]
  },
  {
   "cell_type": "code",
   "execution_count": 68,
   "metadata": {},
   "outputs": [],
   "source": [
    "grouped_df = grouped_series.to_frame()\n",
    "grouped_df = grouped_df.loc[grouped_df.emo <= 10]\n",
    "ids_to_ignore = list(grouped_df['emo'].index)"
   ]
  },
  {
   "cell_type": "code",
   "execution_count": 100,
   "metadata": {},
   "outputs": [],
   "source": [
    "df_to_drop = df.loc[(df.id == 411185656) | (df.id < 0) | (df.id.isin(ids_to_ignore))]\n",
    "df = pd.concat([df, df_to_drop, df_to_drop]).drop_duplicates(keep=False)"
   ]
  },
  {
   "cell_type": "code",
   "execution_count": 101,
   "metadata": {},
   "outputs": [
    {
     "data": {
      "text/html": [
       "<div>\n",
       "<style scoped>\n",
       "    .dataframe tbody tr th:only-of-type {\n",
       "        vertical-align: middle;\n",
       "    }\n",
       "\n",
       "    .dataframe tbody tr th {\n",
       "        vertical-align: top;\n",
       "    }\n",
       "\n",
       "    .dataframe thead th {\n",
       "        text-align: right;\n",
       "    }\n",
       "</style>\n",
       "<table border=\"1\" class=\"dataframe\">\n",
       "  <thead>\n",
       "    <tr style=\"text-align: right;\">\n",
       "      <th></th>\n",
       "      <th>id</th>\n",
       "      <th>emo</th>\n",
       "    </tr>\n",
       "  </thead>\n",
       "  <tbody>\n",
       "    <tr>\n",
       "      <th>0</th>\n",
       "      <td>468483253</td>\n",
       "      <td>[0.3  0.05 0.04 0.94 0.04 0.07 0.2  0.05]</td>\n",
       "    </tr>\n",
       "    <tr>\n",
       "      <th>1</th>\n",
       "      <td>230927305</td>\n",
       "      <td>[0.14 0.09 0.03 0.05 0.03 0.04 0.87 0.18]</td>\n",
       "    </tr>\n",
       "    <tr>\n",
       "      <th>3</th>\n",
       "      <td>93940744</td>\n",
       "      <td>[0.92 0.04 0.04 0.06 0.02 0.02 0.08 0.1 ]</td>\n",
       "    </tr>\n",
       "    <tr>\n",
       "      <th>5</th>\n",
       "      <td>488047952</td>\n",
       "      <td>[0.58 0.05 0.03 0.75 0.02 0.08 0.6  0.05]</td>\n",
       "    </tr>\n",
       "    <tr>\n",
       "      <th>6</th>\n",
       "      <td>4953068</td>\n",
       "      <td>[0.17 0.4  0.17 0.36 0.08 0.06 0.05 0.03]</td>\n",
       "    </tr>\n",
       "    <tr>\n",
       "      <th>...</th>\n",
       "      <td>...</td>\n",
       "      <td>...</td>\n",
       "    </tr>\n",
       "    <tr>\n",
       "      <th>2761970</th>\n",
       "      <td>247033903</td>\n",
       "      <td>[0.83 0.03 0.94 0.34 0.02 0.09 0.39 0.88]</td>\n",
       "    </tr>\n",
       "    <tr>\n",
       "      <th>2761971</th>\n",
       "      <td>71690605</td>\n",
       "      <td>[0.15 0.69 0.06 0.18 0.03 0.02 0.07 0.34]</td>\n",
       "    </tr>\n",
       "    <tr>\n",
       "      <th>2761972</th>\n",
       "      <td>38702672</td>\n",
       "      <td>[0.83 0.08 0.03 0.09 0.03 0.03 0.94 0.03]</td>\n",
       "    </tr>\n",
       "    <tr>\n",
       "      <th>2761973</th>\n",
       "      <td>71535611</td>\n",
       "      <td>[0.16 0.11 0.04 0.31 0.73 0.05 0.32 0.03]</td>\n",
       "    </tr>\n",
       "    <tr>\n",
       "      <th>2761975</th>\n",
       "      <td>40573758</td>\n",
       "      <td>[0.62 0.6  0.88 0.61 0.03 0.07 0.07 0.03]</td>\n",
       "    </tr>\n",
       "  </tbody>\n",
       "</table>\n",
       "<p>1886296 rows × 2 columns</p>\n",
       "</div>"
      ],
      "text/plain": [
       "                id                                        emo\n",
       "0        468483253  [0.3  0.05 0.04 0.94 0.04 0.07 0.2  0.05]\n",
       "1        230927305  [0.14 0.09 0.03 0.05 0.03 0.04 0.87 0.18]\n",
       "3         93940744  [0.92 0.04 0.04 0.06 0.02 0.02 0.08 0.1 ]\n",
       "5        488047952  [0.58 0.05 0.03 0.75 0.02 0.08 0.6  0.05]\n",
       "6          4953068  [0.17 0.4  0.17 0.36 0.08 0.06 0.05 0.03]\n",
       "...            ...                                        ...\n",
       "2761970  247033903  [0.83 0.03 0.94 0.34 0.02 0.09 0.39 0.88]\n",
       "2761971   71690605  [0.15 0.69 0.06 0.18 0.03 0.02 0.07 0.34]\n",
       "2761972   38702672  [0.83 0.08 0.03 0.09 0.03 0.03 0.94 0.03]\n",
       "2761973   71535611  [0.16 0.11 0.04 0.31 0.73 0.05 0.32 0.03]\n",
       "2761975   40573758  [0.62 0.6  0.88 0.61 0.03 0.07 0.07 0.03]\n",
       "\n",
       "[1886296 rows x 2 columns]"
      ]
     },
     "execution_count": 101,
     "metadata": {},
     "output_type": "execute_result"
    }
   ],
   "source": [
    "df"
   ]
  },
  {
   "cell_type": "markdown",
   "metadata": {},
   "source": [
    "#### The final plot shows distribution of comments number for every user"
   ]
  },
  {
   "cell_type": "code",
   "execution_count": 102,
   "metadata": {},
   "outputs": [
    {
     "data": {
      "text/plain": [
       "<matplotlib.axes._subplots.AxesSubplot at 0x134985690>"
      ]
     },
     "execution_count": 102,
     "metadata": {},
     "output_type": "execute_result"
    },
    {
     "data": {
      "image/png": "[encoded data removed]",
      "text/plain": [
       "<Figure size 1080x576 with 1 Axes>"
      ]
     },
     "metadata": {
      "needs_background": "light"
     },
     "output_type": "display_data"
    }
   ],
   "source": [
    "plt.figure(figsize=(15,8))\n",
    "df.groupby('id')['emo'].nunique().plot()"
   ]
  },
  {
   "cell_type": "markdown",
   "metadata": {},
   "source": [
    "## Getting average emo vectors for every user"
   ]
  },
  {
   "cell_type": "code",
   "execution_count": 89,
   "metadata": {},
   "outputs": [],
   "source": [
    "def vector_str_to_list(vector_str):\n",
    "    return [float(num) for num in vector_str[1:-1].split(\" \") if num]"
   ]
  },
  {
   "cell_type": "code",
   "execution_count": 103,
   "metadata": {},
   "outputs": [],
   "source": [
    "def get_average_vector_for_df(df):\n",
    "    ids = df.id.unique()\n",
    "\n",
    "    users = []\n",
    "    vectors = []\n",
    "    \n",
    "    for user_id in ids:\n",
    "        sample = df.loc[df.id == user_id]\n",
    "        emo_vectors = [vector_str_to_list(vector) for vector in list(sample[\"emo\"])]\n",
    "        average_vector = np.average(emo_vectors, axis=0)\n",
    "        users.append(user_id)\n",
    "        vectors.append(average_vector)\n",
    "        \n",
    "    return pd.DataFrame(data={\"id\": users, \"emo\": vectors})"
   ]
  },
  {
   "cell_type": "code",
   "execution_count": 104,
   "metadata": {},
   "outputs": [],
   "source": [
    "df_average = get_average_vector_for_df(df)"
   ]
  },
  {
   "cell_type": "code",
   "execution_count": 105,
   "metadata": {},
   "outputs": [
    {
     "data": {
      "text/html": [
       "<div>\n",
       "<style scoped>\n",
       "    .dataframe tbody tr th:only-of-type {\n",
       "        vertical-align: middle;\n",
       "    }\n",
       "\n",
       "    .dataframe tbody tr th {\n",
       "        vertical-align: top;\n",
       "    }\n",
       "\n",
       "    .dataframe thead th {\n",
       "        text-align: right;\n",
       "    }\n",
       "</style>\n",
       "<table border=\"1\" class=\"dataframe\">\n",
       "  <thead>\n",
       "    <tr style=\"text-align: right;\">\n",
       "      <th></th>\n",
       "      <th>id</th>\n",
       "      <th>emo</th>\n",
       "    </tr>\n",
       "  </thead>\n",
       "  <tbody>\n",
       "    <tr>\n",
       "      <th>0</th>\n",
       "      <td>468483253</td>\n",
       "      <td>[0.31202247191011245, 0.2795505617977528, 0.13...</td>\n",
       "    </tr>\n",
       "    <tr>\n",
       "      <th>1</th>\n",
       "      <td>230927305</td>\n",
       "      <td>[0.3445714285714286, 0.3072857142857144, 0.108...</td>\n",
       "    </tr>\n",
       "    <tr>\n",
       "      <th>2</th>\n",
       "      <td>93940744</td>\n",
       "      <td>[0.37546762589928034, 0.2676978417266186, 0.15...</td>\n",
       "    </tr>\n",
       "    <tr>\n",
       "      <th>3</th>\n",
       "      <td>488047952</td>\n",
       "      <td>[0.36630952380952386, 0.28880952380952385, 0.2...</td>\n",
       "    </tr>\n",
       "    <tr>\n",
       "      <th>4</th>\n",
       "      <td>4953068</td>\n",
       "      <td>[0.275284671532847, 0.24433576642335797, 0.120...</td>\n",
       "    </tr>\n",
       "    <tr>\n",
       "      <th>...</th>\n",
       "      <td>...</td>\n",
       "      <td>...</td>\n",
       "    </tr>\n",
       "    <tr>\n",
       "      <th>30870</th>\n",
       "      <td>262138689</td>\n",
       "      <td>[0.4111538461538462, 0.20423076923076922, 0.15...</td>\n",
       "    </tr>\n",
       "    <tr>\n",
       "      <th>30871</th>\n",
       "      <td>143313379</td>\n",
       "      <td>[0.164, 0.532, 0.11800000000000002, 0.45333333...</td>\n",
       "    </tr>\n",
       "    <tr>\n",
       "      <th>30872</th>\n",
       "      <td>5631313</td>\n",
       "      <td>[0.24307692307692313, 0.2515384615384616, 0.42...</td>\n",
       "    </tr>\n",
       "    <tr>\n",
       "      <th>30873</th>\n",
       "      <td>247033903</td>\n",
       "      <td>[0.4628571428571429, 0.29285714285714287, 0.21...</td>\n",
       "    </tr>\n",
       "    <tr>\n",
       "      <th>30874</th>\n",
       "      <td>270891056</td>\n",
       "      <td>[0.2663636363636364, 0.19363636363636366, 0.18...</td>\n",
       "    </tr>\n",
       "  </tbody>\n",
       "</table>\n",
       "<p>30875 rows × 2 columns</p>\n",
       "</div>"
      ],
      "text/plain": [
       "              id                                                emo\n",
       "0      468483253  [0.31202247191011245, 0.2795505617977528, 0.13...\n",
       "1      230927305  [0.3445714285714286, 0.3072857142857144, 0.108...\n",
       "2       93940744  [0.37546762589928034, 0.2676978417266186, 0.15...\n",
       "3      488047952  [0.36630952380952386, 0.28880952380952385, 0.2...\n",
       "4        4953068  [0.275284671532847, 0.24433576642335797, 0.120...\n",
       "...          ...                                                ...\n",
       "30870  262138689  [0.4111538461538462, 0.20423076923076922, 0.15...\n",
       "30871  143313379  [0.164, 0.532, 0.11800000000000002, 0.45333333...\n",
       "30872    5631313  [0.24307692307692313, 0.2515384615384616, 0.42...\n",
       "30873  247033903  [0.4628571428571429, 0.29285714285714287, 0.21...\n",
       "30874  270891056  [0.2663636363636364, 0.19363636363636366, 0.18...\n",
       "\n",
       "[30875 rows x 2 columns]"
      ]
     },
     "execution_count": 105,
     "metadata": {},
     "output_type": "execute_result"
    }
   ],
   "source": [
    "df_average"
   ]
  },
  {
   "cell_type": "markdown",
   "metadata": {},
   "source": [
    "## Clustering the users"
   ]
  },
  {
   "cell_type": "code",
   "execution_count": 199,
   "metadata": {
    "scrolled": true
   },
   "outputs": [],
   "source": [
    "X = np.array(list(df_average['emo']))\n",
    "X = StandardScaler().fit_transform(X)"
   ]
  },
  {
   "cell_type": "code",
   "execution_count": 200,
   "metadata": {},
   "outputs": [
    {
     "data": {
      "text/plain": [
       "array([[-0.66175474,  0.23925263, -0.36051987, ...,  0.35958038,\n",
       "         0.01378558, -0.34132472],\n",
       "       [-0.36825455,  0.62472675, -0.81422917, ..., -0.12932297,\n",
       "         1.04519873,  0.43600532],\n",
       "       [-0.0896576 ,  0.07451884,  0.03198681, ...,  0.58285866,\n",
       "         0.84149509,  0.09545072],\n",
       "       ...,\n",
       "       [-1.28345   , -0.15007062,  4.47817368, ..., -0.40523778,\n",
       "        -1.63679902, -1.94574785],\n",
       "       [ 0.69835045,  0.42419276,  1.03101473, ..., -1.30258763,\n",
       "         1.31007063,  1.46060716],\n",
       "       [-1.07346923, -0.95481689,  0.50995813, ...,  1.97652327,\n",
       "        -1.19337012,  0.28640114]])"
      ]
     },
     "execution_count": 200,
     "metadata": {},
     "output_type": "execute_result"
    }
   ],
   "source": [
    "X"
   ]
  },
  {
   "cell_type": "markdown",
   "metadata": {},
   "source": [
    "### Agglomerative Hierarchical Clustering"
   ]
  },
  {
   "cell_type": "markdown",
   "metadata": {},
   "source": [
    "According to the assumtion that number of main clusters should be <b>8</b>, we specify it by <b>n_clusters</b> parameter."
   ]
  },
  {
   "cell_type": "code",
   "execution_count": 160,
   "metadata": {},
   "outputs": [],
   "source": [
    "clustering_ah = AgglomerativeClustering(n_clusters=8).fit(X)"
   ]
  },
  {
   "cell_type": "code",
   "execution_count": 162,
   "metadata": {},
   "outputs": [],
   "source": [
    "labels = clustering_ah.labels_"
   ]
  },
  {
   "cell_type": "code",
   "execution_count": 193,
   "metadata": {},
   "outputs": [
    {
     "data": {
      "text/plain": [
       "array([1, 2, 2, ..., 6, 0, 6])"
      ]
     },
     "execution_count": 193,
     "metadata": {},
     "output_type": "execute_result"
    }
   ],
   "source": [
    "labels"
   ]
  },
  {
   "cell_type": "markdown",
   "metadata": {},
   "source": [
    "#### Show some results for Agglomerative Hierarchical Clustering and see how close parts of vectors for one cluster. Users for each cluster were chosen randomly."
   ]
  },
  {
   "cell_type": "markdown",
   "metadata": {},
   "source": [
    "#### We can't visualize the clusters data because the vectors are 8-dimension vectors, but according to the meaning of the Plutchick's system these vectors can be presented by radar diagram."
   ]
  },
  {
   "cell_type": "code",
   "execution_count": 165,
   "metadata": {},
   "outputs": [
    {
     "data": {
      "text/plain": [
       "array([0.295     , 0.10777778, 0.10777778, 0.41277778, 0.05833333,\n",
       "       0.29222222, 0.34      , 0.11333333])"
      ]
     },
     "execution_count": 165,
     "metadata": {},
     "output_type": "execute_result"
    }
   ],
   "source": [
    "# 1 cluster\n",
    "df_average['emo'][886]"
   ]
  },
  {
   "cell_type": "code",
   "execution_count": 166,
   "metadata": {},
   "outputs": [
    {
     "data": {
      "text/plain": [
       "array([0.28708333, 0.2775    , 0.10875   , 0.3725    , 0.07541667,\n",
       "       0.2375    , 0.29458333, 0.11416667])"
      ]
     },
     "execution_count": 166,
     "metadata": {},
     "output_type": "execute_result"
    }
   ],
   "source": [
    "# 1 cluster\n",
    "df_average['emo'][5581]"
   ]
  },
  {
   "cell_type": "markdown",
   "metadata": {},
   "source": [
    "<img src=\"pic/1_cluster.png\" width=\"800\" />\n",
    "(The chart was created by Excel tools)"
   ]
  },
  {
   "cell_type": "code",
   "execution_count": 170,
   "metadata": {},
   "outputs": [
    {
     "data": {
      "text/plain": [
       "array([0.415   , 0.29125 , 0.110625, 0.30875 , 0.049375, 0.138125,\n",
       "       0.223125, 0.211875])"
      ]
     },
     "execution_count": 170,
     "metadata": {},
     "output_type": "execute_result"
    }
   ],
   "source": [
    "# 7 cluster\n",
    "df_average['emo'][9005]"
   ]
  },
  {
   "cell_type": "code",
   "execution_count": 171,
   "metadata": {},
   "outputs": [
    {
     "data": {
      "text/plain": [
       "array([0.44372525, 0.26779844, 0.17590282, 0.30137772, 0.06825635,\n",
       "       0.15739252, 0.31144971, 0.15588282])"
      ]
     },
     "execution_count": 171,
     "metadata": {},
     "output_type": "execute_result"
    }
   ],
   "source": [
    "# 7 cluster\n",
    "df_average['emo'][8]"
   ]
  },
  {
   "cell_type": "markdown",
   "metadata": {},
   "source": [
    "<img src=\"pic/7_cluster.png\" width=\"800\" />\n",
    "(The chart was created by Excel tools)"
   ]
  },
  {
   "cell_type": "code",
   "execution_count": 178,
   "metadata": {},
   "outputs": [
    {
     "data": {
      "text/plain": [
       "array([0.20987013, 0.27896104, 0.09532468, 0.47948052, 0.05324675,\n",
       "       0.2825974 , 0.30194805, 0.09896104])"
      ]
     },
     "execution_count": 178,
     "metadata": {},
     "output_type": "execute_result"
    }
   ],
   "source": [
    "# 6 cluster\n",
    "df_average['emo'][49]"
   ]
  },
  {
   "cell_type": "code",
   "execution_count": 179,
   "metadata": {},
   "outputs": [
    {
     "data": {
      "text/plain": [
       "array([0.23166667, 0.28055556, 0.175     , 0.555     , 0.06055556,\n",
       "       0.29722222, 0.36166667, 0.22944444])"
      ]
     },
     "execution_count": 179,
     "metadata": {},
     "output_type": "execute_result"
    }
   ],
   "source": [
    "# 6 cluster\n",
    "df_average['emo'][290]"
   ]
  },
  {
   "cell_type": "markdown",
   "metadata": {},
   "source": [
    "<img src=\"pic/6_cluster.png\" width=\"800\" />\n",
    "(The chart was created by Excel tools)"
   ]
  },
  {
   "cell_type": "markdown",
   "metadata": {},
   "source": [
    "We can see that the figures for the users from the same clusters are similiar."
   ]
  },
  {
   "cell_type": "markdown",
   "metadata": {},
   "source": [
    "### Birch algorithm"
   ]
  },
  {
   "cell_type": "markdown",
   "metadata": {},
   "source": [
    "According to the assumtion that number of main clusters should be <b>8</b>, we specify it by <b>n_clusters</b> parameter as we did for agglomerative hierarchical clustering."
   ]
  },
  {
   "cell_type": "code",
   "execution_count": 196,
   "metadata": {},
   "outputs": [
    {
     "data": {
      "text/plain": [
       "array([1, 6, 1, ..., 0, 6, 0])"
      ]
     },
     "execution_count": 196,
     "metadata": {},
     "output_type": "execute_result"
    }
   ],
   "source": [
    "clustering_brch = Birch(n_clusters=8, threshold=0.1)\n",
    "clustering_brch.fit(X)\n",
    "clustering_brch.predict(X)"
   ]
  },
  {
   "cell_type": "markdown",
   "metadata": {},
   "source": [
    "### Mean Shift"
   ]
  },
  {
   "cell_type": "code",
   "execution_count": 295,
   "metadata": {},
   "outputs": [],
   "source": [
    "# Try to change bandwidth because this parameter does the greatest impact to the result\n",
    "# bandwidth=2\n",
    "clustering_mean_shift = MeanShift(bandwidth=2).fit(X)"
   ]
  },
  {
   "cell_type": "code",
   "execution_count": 307,
   "metadata": {},
   "outputs": [],
   "source": [
    "labels = clustering_mean_shift.labels_"
   ]
  },
  {
   "cell_type": "code",
   "execution_count": 308,
   "metadata": {},
   "outputs": [
    {
     "data": {
      "text/plain": [
       "172"
      ]
     },
     "execution_count": 308,
     "metadata": {},
     "output_type": "execute_result"
    }
   ],
   "source": [
    "# Too many clusters\n",
    "n_clusters_ = len(set(labels)) - (1 if -1 in labels else 0)\n",
    "n_clusters_"
   ]
  },
  {
   "cell_type": "code",
   "execution_count": 304,
   "metadata": {},
   "outputs": [],
   "source": [
    "# bandwidth=4\n",
    "clustering_mean_shift = MeanShift(bandwidth=4).fit(X)"
   ]
  },
  {
   "cell_type": "code",
   "execution_count": 311,
   "metadata": {},
   "outputs": [],
   "source": [
    "labels = clustering_mean_shift.labels_"
   ]
  },
  {
   "cell_type": "code",
   "execution_count": 312,
   "metadata": {},
   "outputs": [
    {
     "data": {
      "text/plain": [
       "3"
      ]
     },
     "execution_count": 312,
     "metadata": {},
     "output_type": "execute_result"
    }
   ],
   "source": [
    "# Too few clusters\n",
    "n_clusters_ = len(set(labels)) - (1 if -1 in labels else 0)\n",
    "n_clusters_"
   ]
  },
  {
   "cell_type": "code",
   "execution_count": 315,
   "metadata": {},
   "outputs": [],
   "source": [
    "# bandwidth = 3.5\n",
    "clustering_mean_shift = MeanShift(bandwidth=3.5).fit(X)"
   ]
  },
  {
   "cell_type": "code",
   "execution_count": 316,
   "metadata": {},
   "outputs": [
    {
     "data": {
      "text/plain": [
       "4"
      ]
     },
     "execution_count": 316,
     "metadata": {},
     "output_type": "execute_result"
    }
   ],
   "source": [
    "labels = clustering_mean_shift.labels_\n",
    "n_clusters_ = len(set(labels)) - (1 if -1 in labels else 0)\n",
    "n_clusters_"
   ]
  },
  {
   "cell_type": "markdown",
   "metadata": {},
   "source": [
    "### Grid search and metrics"
   ]
  },
  {
   "cell_type": "markdown",
   "metadata": {},
   "source": [
    "Metrics, which will be used for our unsupervised learning example are: \n",
    "- Silhouette index\n",
    "<img src=\"pic/si.png\" width=\"800\" />\n",
    "\n",
    "- Davies-Bouldin\n",
    "<img src=\"pic/db.png\" width=\"800\" />\n",
    "\n",
    "- Calinski-Harabasz\n",
    "<img src=\"pic/ch.png\" width=\"800\" />"
   ]
  },
  {
   "cell_type": "code",
   "execution_count": 275,
   "metadata": {},
   "outputs": [],
   "source": [
    "# Grid parameters for Birch algorithm\n",
    "param_grid_birch = {\"threshold\": [0.1, 0.3, 0.5],\n",
    "                    \"branching_factor\": [20, 30, 50],\n",
    "                    \"n_clusters\": [7,8,9]\n",
    "                    }"
   ]
  },
  {
   "cell_type": "code",
   "execution_count": null,
   "metadata": {},
   "outputs": [],
   "source": [
    "# Grid parameters for Agglomerative hierarchical method\n",
    "param_grid_ah = {\"distance_threshold\": [0.1, 0.3, 0.5],\n",
    "                 \"affinity\": [\"euclidean\", \"l1\", \"l2\"],\n",
    "                 \"n_clusters\": [7,8,9]\n",
    "                }"
   ]
  },
  {
   "cell_type": "code",
   "execution_count": null,
   "metadata": {},
   "outputs": [],
   "source": [
    "# Grid parameters for OPTICS\n",
    "param_grid_optics = {\"bandwidth\":[3,3.5, 4],\n",
    "                     \"max_iter\": [200, 250, 300],\n",
    "                     \"min_bin_freq\": [1,2,3]\n",
    "                    }"
   ]
  },
  {
   "cell_type": "markdown",
   "metadata": {},
   "source": [
    "#### Custom scorer functions for chosen metrics for unsupervised learning problem"
   ]
  },
  {
   "cell_type": "code",
   "execution_count": 289,
   "metadata": {},
   "outputs": [],
   "source": [
    "def cv_silhouette_scorer(estimator, X):\n",
    "    estimator.fit(X)\n",
    "    cluster_labels = estimator.labels_\n",
    "    num_labels = len(set(cluster_labels))\n",
    "    num_samples = len(X.index)\n",
    "    if num_labels == 1 or num_labels == num_samples:\n",
    "        return -1\n",
    "    else:\n",
    "        return silhouette_score(X, cluster_labels)"
   ]
  },
  {
   "cell_type": "code",
   "execution_count": null,
   "metadata": {},
   "outputs": [],
   "source": [
    "def cv_davies_bouldin_scorer(estimator, X):\n",
    "    estimator.fit(X)\n",
    "    cluster_labels = estimator.labels_\n",
    "    num_labels = len(set(cluster_labels))\n",
    "    num_samples = len(X.index)\n",
    "    if num_labels == 1 or num_labels == num_samples:\n",
    "        return -1\n",
    "    else:\n",
    "        return davies_bouldin_score(X, cluster_labels)"
   ]
  },
  {
   "cell_type": "code",
   "execution_count": null,
   "metadata": {},
   "outputs": [],
   "source": [
    "def cv_calinski_harabasz_scorer(estimator, X):\n",
    "    estimator.fit(X)\n",
    "    cluster_labels = estimator.labels_\n",
    "    num_labels = len(set(cluster_labels))\n",
    "    num_samples = len(X.index)\n",
    "    if num_labels == 1 or num_labels == num_samples:\n",
    "        return -1\n",
    "    else:\n",
    "        return calinski_harabasz_score(X, cluster_labels)"
   ]
  },
  {
   "cell_type": "markdown",
   "metadata": {},
   "source": [
    "### Grid search part"
   ]
  },
  {
   "cell_type": "code",
   "execution_count": null,
   "metadata": {},
   "outputs": [],
   "source": [
    "for estimator, params in zip([clustering_brch, clustering_ah, ], [param_grid_birch, param_grid_ah]):\n",
    "    cv = [(slice(None), slice(None))]\n",
    "    \n",
    "    # Define Grid Search for the Silhouette scorer\n",
    "    rid_silhouette = GridSearchCV(estimator=estimator,\n",
    "                        param_grid=params, \n",
    "                        scoring=cv_silhouette_scorer, \n",
    "                        cv=cv)\n",
    "    \n",
    "    grid_silhouette.fit(X)\n",
    "    # Table for grid results\n",
    "    cs_results_silhouette = grid_silhouette.cv_results_\n",
    "    # Best estimator\n",
    "    best_estimator_silhouette = grid_silhouette.best_estimator_\n",
    "    \n",
    "    # Define Grid Search for the Davies Bouldin scorer\n",
    "    grid_davies_bouldin = GridSearchCV(estimator=estimator,\n",
    "                        param_grid=params, \n",
    "                        scoring=cv_davies_bouldin_scorer, \n",
    "                        cv=cv)\n",
    "    \n",
    "    grid_davies_bouldin.fit(X)\n",
    "    # Table for grid results\n",
    "    cs_results_davies_bouldin = grid_davies_bouldin.cv_results_\n",
    "    # Best estimator\n",
    "    best_estimator_davies_bouldin = grid_davies_bouldin.best_estimator_\n",
    "    \n",
    "    # Table for grid results\n",
    "    grid_silhouette.cv_results_\n",
    "    \n",
    "    # Define Grid Search for the Calinski Harabasz scorer\n",
    "    grid_calinski_harabasz = GridSearchCV(estimator=estimator,\n",
    "                        param_grid=params, \n",
    "                        scoring=cv_calinski_harabasz_scorer, \n",
    "                        cv=cv)\n",
    "    \n",
    "    grid_calinski_harabasz.fit(X)\n",
    "    # Table for grid results\n",
    "    cs_results_calinski_harabasz = grid_calinski_harabasz.cv_results_\n",
    "    # Best estimator\n",
    "    best_estimator_calinski_harabasz = grid_calinski_harabasz.best_estimator_"
   ]
  },
  {
   "cell_type": "markdown",
   "metadata": {},
   "source": [
    "### Visualization of grid search scores"
   ]
  },
  {
   "cell_type": "code",
   "execution_count": null,
   "metadata": {},
   "outputs": [],
   "source": [
    "def plot_grid_search():\n",
    "    scores = [entry.mean_validation_score for entry in grid.grid_scores_]\n",
    "    # the shape is according to the alphabetical order of the parameters in the grid\n",
    "    scores = np.array(scores).reshape(len(C_range), len(gamma_range))\n",
    "    for c_scores in scores:\n",
    "        plt.plot(gamma_range, c_scores, '-')"
   ]
  },
  {
   "cell_type": "code",
   "execution_count": null,
   "metadata": {},
   "outputs": [],
   "source": [
    "plot_grid_search()"
   ]
  }
 ],
 "metadata": {
  "kernelspec": {
   "display_name": "Python 3",
   "language": "python",
   "name": "python3"
  },
  "language_info": {
   "codemirror_mode": {
    "name": "ipython",
    "version": 3
   },
   "file_extension": ".py",
   "mimetype": "text/x-python",
   "name": "python",
   "nbconvert_exporter": "python",
   "pygments_lexer": "ipython3",
   "version": "3.7.5"
  }
 },
 "nbformat": 4,
 "nbformat_minor": 2
}
